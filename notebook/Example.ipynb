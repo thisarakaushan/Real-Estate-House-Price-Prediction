{
 "cells": [
  {
   "cell_type": "code",
   "execution_count": 7,
   "id": "66f79690",
   "metadata": {},
   "outputs": [
    {
     "name": "stdout",
     "output_type": "stream",
     "text": [
      "Cross-validation R-squared scores: [0.83814915 0.73336192 0.84521898 0.88734874 0.8079846 ]\n",
      "    Feature  Coefficient\n",
      "0      CRIM    -0.112400\n",
      "1        ZN     0.030459\n",
      "2     INDUS     0.034896\n",
      "3      CHAS     2.750333\n",
      "4       NOX   -15.924459\n",
      "5        RM     4.445779\n",
      "6       AGE    -0.007305\n",
      "7       DIS    -1.429608\n",
      "8       RAD     0.260043\n",
      "9       TAX    -0.010780\n",
      "10  PTRATIO    -0.900771\n",
      "11        B     0.012400\n",
      "12    LSTAT    -0.510902\n",
      "Best random forest model: RandomForestRegressor(max_depth=10, n_estimators=200)\n",
      "Mean squared error: 8.88945094175975\n",
      "RMSE: 2.9815182276417076\n",
      "R-squared: 0.8787809579886864\n"
     ]
    }
   ],
   "source": [
    "import pandas as pd\n",
    "from sklearn.model_selection import train_test_split, cross_val_score, GridSearchCV\n",
    "from sklearn.ensemble import RandomForestRegressor\n",
    "from sklearn.metrics import mean_squared_error, r2_score\n",
    "from sklearn.linear_model import Ridge\n",
    "# from tensorflow.keras.callbacks import EarlyStopping\n",
    "# from tensorflow.keras.models import Sequential\n",
    "# from tensorflow.keras.layers import Dense\n",
    "# from tensorflow.keras.preprocessing.image import ImageDataGenerator\n",
    "\n",
    "# Load the data\n",
    "data = pd.read_csv('data.csv')\n",
    "X = data.drop('MEDV', axis=1)\n",
    "y = data['MEDV']\n",
    "\n",
    "# Split the data into training and validation sets\n",
    "X_train, X_val, y_train, y_val = train_test_split(X, y, test_size=0.2, random_state=42)\n",
    "\n",
    "# 1. Cross-validation\n",
    "rf = RandomForestRegressor()\n",
    "scores = cross_val_score(rf, X_train, y_train, cv=5, scoring='r2')\n",
    "print(\"Cross-validation R-squared scores:\", scores)\n",
    "\n",
    "# 2. Regularization\n",
    "ridge = Ridge(alpha=0.1)\n",
    "ridge.fit(X_train, y_train)\n",
    "coefficients = pd.DataFrame({'Feature': X.columns, 'Coefficient': ridge.coef_})\n",
    "print(coefficients)\n",
    "\n",
    "# 3. Early stopping\n",
    "# model = Sequential([\n",
    "#     Dense(32, activation='relu', input_shape=(X_train.shape[1],)),\n",
    "#     Dense(1)\n",
    "# ])\n",
    "# model.compile(optimizer='adam', loss='mse', metrics=['mae'])\n",
    "# early_stop = EarlyStopping(monitor='val_loss', patience=10)\n",
    "# history = model.fit(X_train, y_train, epochs=100, validation_split=0.2, callbacks=[early_stop])\n",
    "\n",
    "# 4. Data augmentation\n",
    "# datagen = ImageDataGenerator(rotation_range=10, zoom_range=0.2, horizontal_flip=True)\n",
    "# train_generator = datagen.flow(X_train, y_train, batch_size=32)\n",
    "# history = model.fit(train_generator, epochs=100, validation_data=(X_val, y_val))\n",
    "\n",
    "# 5. Model selection\n",
    "rf = RandomForestRegressor()\n",
    "param_grid_rf = {'n_estimators': [50, 100, 200], 'max_depth': [None, 5, 10]}\n",
    "grid_rf = GridSearchCV(rf, param_grid_rf, cv=5)\n",
    "grid_rf.fit(X_train, y_train)\n",
    "print(\"Best random forest model:\", grid_rf.best_estimator_)\n",
    "\n",
    "# Fit the final model\n",
    "model_rf = grid_rf.best_estimator_\n",
    "model_rf.fit(X_train, y_train)\n",
    "\n",
    "# Evaluate the final model\n",
    "y_pred = model_rf.predict(X_val)\n",
    "mse = mean_squared_error(y_val, y_pred)\n",
    "rmse = mse ** 0.5\n",
    "r2 = r2_score(y_val, y_pred)\n",
    "print(\"Mean squared error:\", mse)\n",
    "print(\"RMSE:\", rmse)\n",
    "print(\"R-squared:\", r2)\n"
   ]
  },
  {
   "cell_type": "code",
   "execution_count": null,
   "id": "05fe8cfd",
   "metadata": {},
   "outputs": [],
   "source": []
  },
  {
   "cell_type": "code",
   "execution_count": null,
   "id": "fe62a0aa",
   "metadata": {},
   "outputs": [],
   "source": []
  }
 ],
 "metadata": {
  "kernelspec": {
   "display_name": "Python 3 (ipykernel)",
   "language": "python",
   "name": "python3"
  },
  "language_info": {
   "codemirror_mode": {
    "name": "ipython",
    "version": 3
   },
   "file_extension": ".py",
   "mimetype": "text/x-python",
   "name": "python",
   "nbconvert_exporter": "python",
   "pygments_lexer": "ipython3",
   "version": "3.9.13"
  }
 },
 "nbformat": 4,
 "nbformat_minor": 5
}
