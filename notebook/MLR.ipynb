{
 "cells": [
  {
   "cell_type": "code",
   "execution_count": 25,
   "id": "9dc557d5",
   "metadata": {},
   "outputs": [],
   "source": [
    "import pandas as pd\n",
    "import numpy as np\n",
    "import matplotlib.pyplot as plt\n",
    "import seaborn as sns\n",
    "%matplotlib inline"
   ]
  },
  {
   "cell_type": "code",
   "execution_count": 26,
   "id": "bdeee400",
   "metadata": {},
   "outputs": [],
   "source": [
    "df = pd.read_csv('data.csv')"
   ]
  },
  {
   "cell_type": "code",
   "execution_count": 27,
   "id": "1a9e12bd",
   "metadata": {},
   "outputs": [],
   "source": [
    "# Add a new column 'PRICE' to the DataFrame using the 'TARGET' variable values\n",
    "df['target'] = df['MEDV']\n",
    "\n",
    "# # Drop the 'TARGET' column\n",
    "df.drop(columns=['MEDV'], inplace=True)"
   ]
  },
  {
   "cell_type": "code",
   "execution_count": 28,
   "id": "da3ed87f",
   "metadata": {},
   "outputs": [
    {
     "name": "stdout",
     "output_type": "stream",
     "text": [
      "CRIM       0\n",
      "ZN         0\n",
      "INDUS      0\n",
      "CHAS       0\n",
      "NOX        0\n",
      "RM         0\n",
      "AGE        0\n",
      "DIS        0\n",
      "RAD        0\n",
      "TAX        0\n",
      "PTRATIO    0\n",
      "B          0\n",
      "LSTAT      0\n",
      "target     0\n",
      "dtype: int64\n"
     ]
    }
   ],
   "source": [
    "# check for missing values\n",
    "print(df.isnull().sum())\n",
    "\n",
    "# drop rows with missing values\n",
    "df.dropna(inplace=True)\n",
    "\n",
    "# fill missing values with mean\n",
    "df.fillna(df.mean(), inplace=True)"
   ]
  },
  {
   "cell_type": "code",
   "execution_count": 29,
   "id": "50d9ba58",
   "metadata": {},
   "outputs": [
    {
     "name": "stdout",
     "output_type": "stream",
     "text": [
      "0\n"
     ]
    }
   ],
   "source": [
    "# check for duplicates\n",
    "print(df.duplicated().sum())\n",
    "\n",
    "# drop duplicates\n",
    "df.drop_duplicates(inplace=True)"
   ]
  },
  {
   "cell_type": "code",
   "execution_count": 30,
   "id": "cb49ee02",
   "metadata": {},
   "outputs": [
    {
     "data": {
      "image/png": "[encoded data removed]",
      "text/plain": [
       "<Figure size 640x480 with 1 Axes>"
      ]
     },
     "metadata": {},
     "output_type": "display_data"
    }
   ],
   "source": [
    "# identify outliers using boxplot\n",
    "sns.boxplot(x=df['CRIM'])\n",
    "\n",
    "# remove outliers using z-score\n",
    "from scipy import stats\n",
    "z_scores = stats.zscore(df['CRIM'])\n",
    "abs_z_scores = np.abs(z_scores)\n",
    "filtered_entries = (abs_z_scores < 3)\n",
    "df = df[filtered_entries]"
   ]
  },
  {
   "cell_type": "code",
   "execution_count": 31,
   "id": "699f7543",
   "metadata": {},
   "outputs": [],
   "source": [
    "# # drop irrelevant features\n",
    "# df = df.drop(['CHAS'], axis=1)"
   ]
  },
  {
   "cell_type": "code",
   "execution_count": 32,
   "id": "8d662153",
   "metadata": {},
   "outputs": [],
   "source": [
    "# add a categorical feature as an example\n",
    "df['CHAS'] = pd.Categorical.from_codes(df['CHAS'], ['no', 'yes'])\n",
    "\n",
    "# use one-hot encoding to convert the categorical feature to numerical\n",
    "df = pd.get_dummies(df, columns=['CHAS'])"
   ]
  },
  {
   "cell_type": "code",
   "execution_count": 33,
   "id": "d7079b96",
   "metadata": {},
   "outputs": [],
   "source": [
    "from sklearn.preprocessing import StandardScaler\n",
    "X = df.drop('target', axis=1)\n",
    "scaler = StandardScaler()\n",
    "X = scaler.fit_transform(X)"
   ]
  },
  {
   "cell_type": "code",
   "execution_count": 34,
   "id": "30cf9128",
   "metadata": {},
   "outputs": [
    {
     "name": "stdout",
     "output_type": "stream",
     "text": [
      "<class 'pandas.core.frame.DataFrame'>\n",
      "Int64Index: 498 entries, 0 to 505\n",
      "Data columns (total 15 columns):\n",
      " #   Column    Non-Null Count  Dtype  \n",
      "---  ------    --------------  -----  \n",
      " 0   CRIM      498 non-null    float64\n",
      " 1   ZN        498 non-null    float64\n",
      " 2   INDUS     498 non-null    float64\n",
      " 3   NOX       498 non-null    float64\n",
      " 4   RM        498 non-null    float64\n",
      " 5   AGE       498 non-null    float64\n",
      " 6   DIS       498 non-null    float64\n",
      " 7   RAD       498 non-null    int64  \n",
      " 8   TAX       498 non-null    int64  \n",
      " 9   PTRATIO   498 non-null    float64\n",
      " 10  B         498 non-null    float64\n",
      " 11  LSTAT     498 non-null    float64\n",
      " 12  target    498 non-null    float64\n",
      " 13  CHAS_no   498 non-null    uint8  \n",
      " 14  CHAS_yes  498 non-null    uint8  \n",
      "dtypes: float64(11), int64(2), uint8(2)\n",
      "memory usage: 55.4 KB\n"
     ]
    }
   ],
   "source": [
    "df.info()"
   ]
  },
  {
   "cell_type": "code",
   "execution_count": 35,
   "id": "8f4c857f",
   "metadata": {},
   "outputs": [
    {
     "data": {
      "text/html": [
       "<div>\n",
       "<style scoped>\n",
       "    .dataframe tbody tr th:only-of-type {\n",
       "        vertical-align: middle;\n",
       "    }\n",
       "\n",
       "    .dataframe tbody tr th {\n",
       "        vertical-align: top;\n",
       "    }\n",
       "\n",
       "    .dataframe thead th {\n",
       "        text-align: right;\n",
       "    }\n",
       "</style>\n",
       "<table border=\"1\" class=\"dataframe\">\n",
       "  <thead>\n",
       "    <tr style=\"text-align: right;\">\n",
       "      <th></th>\n",
       "      <th>CRIM</th>\n",
       "      <th>ZN</th>\n",
       "      <th>INDUS</th>\n",
       "      <th>NOX</th>\n",
       "      <th>RM</th>\n",
       "      <th>AGE</th>\n",
       "      <th>DIS</th>\n",
       "      <th>RAD</th>\n",
       "      <th>TAX</th>\n",
       "      <th>PTRATIO</th>\n",
       "      <th>B</th>\n",
       "      <th>LSTAT</th>\n",
       "      <th>target</th>\n",
       "      <th>CHAS_no</th>\n",
       "      <th>CHAS_yes</th>\n",
       "    </tr>\n",
       "  </thead>\n",
       "  <tbody>\n",
       "    <tr>\n",
       "      <th>count</th>\n",
       "      <td>498.000000</td>\n",
       "      <td>498.000000</td>\n",
       "      <td>498.00000</td>\n",
       "      <td>498.000000</td>\n",
       "      <td>498.000000</td>\n",
       "      <td>498.000000</td>\n",
       "      <td>498.000000</td>\n",
       "      <td>498.000000</td>\n",
       "      <td>498.000000</td>\n",
       "      <td>498.000000</td>\n",
       "      <td>498.000000</td>\n",
       "      <td>498.000000</td>\n",
       "      <td>498.000000</td>\n",
       "      <td>498.000000</td>\n",
       "      <td>498.000000</td>\n",
       "    </tr>\n",
       "    <tr>\n",
       "      <th>mean</th>\n",
       "      <td>2.778287</td>\n",
       "      <td>11.546185</td>\n",
       "      <td>11.02492</td>\n",
       "      <td>0.552766</td>\n",
       "      <td>6.293082</td>\n",
       "      <td>68.158434</td>\n",
       "      <td>3.830554</td>\n",
       "      <td>9.317269</td>\n",
       "      <td>404.096386</td>\n",
       "      <td>18.427510</td>\n",
       "      <td>359.121867</td>\n",
       "      <td>12.494096</td>\n",
       "      <td>22.753012</td>\n",
       "      <td>0.929719</td>\n",
       "      <td>0.070281</td>\n",
       "    </tr>\n",
       "    <tr>\n",
       "      <th>std</th>\n",
       "      <td>5.088265</td>\n",
       "      <td>23.464449</td>\n",
       "      <td>6.85777</td>\n",
       "      <td>0.115729</td>\n",
       "      <td>0.700201</td>\n",
       "      <td>28.162623</td>\n",
       "      <td>2.103572</td>\n",
       "      <td>8.580296</td>\n",
       "      <td>166.659277</td>\n",
       "      <td>2.170867</td>\n",
       "      <td>87.140830</td>\n",
       "      <td>7.007974</td>\n",
       "      <td>9.094994</td>\n",
       "      <td>0.255877</td>\n",
       "      <td>0.255877</td>\n",
       "    </tr>\n",
       "    <tr>\n",
       "      <th>min</th>\n",
       "      <td>0.006320</td>\n",
       "      <td>0.000000</td>\n",
       "      <td>0.46000</td>\n",
       "      <td>0.385000</td>\n",
       "      <td>3.561000</td>\n",
       "      <td>2.900000</td>\n",
       "      <td>1.129600</td>\n",
       "      <td>1.000000</td>\n",
       "      <td>187.000000</td>\n",
       "      <td>12.600000</td>\n",
       "      <td>0.320000</td>\n",
       "      <td>1.730000</td>\n",
       "      <td>5.600000</td>\n",
       "      <td>0.000000</td>\n",
       "      <td>0.000000</td>\n",
       "    </tr>\n",
       "    <tr>\n",
       "      <th>25%</th>\n",
       "      <td>0.080573</td>\n",
       "      <td>0.000000</td>\n",
       "      <td>5.13000</td>\n",
       "      <td>0.448250</td>\n",
       "      <td>5.888250</td>\n",
       "      <td>43.875000</td>\n",
       "      <td>2.113700</td>\n",
       "      <td>4.000000</td>\n",
       "      <td>279.000000</td>\n",
       "      <td>17.075000</td>\n",
       "      <td>376.057500</td>\n",
       "      <td>6.905000</td>\n",
       "      <td>17.225000</td>\n",
       "      <td>1.000000</td>\n",
       "      <td>0.000000</td>\n",
       "    </tr>\n",
       "    <tr>\n",
       "      <th>50%</th>\n",
       "      <td>0.247510</td>\n",
       "      <td>0.000000</td>\n",
       "      <td>8.56000</td>\n",
       "      <td>0.535000</td>\n",
       "      <td>6.211000</td>\n",
       "      <td>76.700000</td>\n",
       "      <td>3.272100</td>\n",
       "      <td>5.000000</td>\n",
       "      <td>330.000000</td>\n",
       "      <td>18.950000</td>\n",
       "      <td>391.600000</td>\n",
       "      <td>11.265000</td>\n",
       "      <td>21.400000</td>\n",
       "      <td>1.000000</td>\n",
       "      <td>0.000000</td>\n",
       "    </tr>\n",
       "    <tr>\n",
       "      <th>75%</th>\n",
       "      <td>3.103700</td>\n",
       "      <td>12.500000</td>\n",
       "      <td>18.10000</td>\n",
       "      <td>0.624000</td>\n",
       "      <td>6.628000</td>\n",
       "      <td>93.875000</td>\n",
       "      <td>5.214600</td>\n",
       "      <td>8.000000</td>\n",
       "      <td>666.000000</td>\n",
       "      <td>20.200000</td>\n",
       "      <td>396.225000</td>\n",
       "      <td>16.635000</td>\n",
       "      <td>25.000000</td>\n",
       "      <td>1.000000</td>\n",
       "      <td>0.000000</td>\n",
       "    </tr>\n",
       "    <tr>\n",
       "      <th>max</th>\n",
       "      <td>28.655800</td>\n",
       "      <td>100.000000</td>\n",
       "      <td>27.74000</td>\n",
       "      <td>0.871000</td>\n",
       "      <td>8.780000</td>\n",
       "      <td>100.000000</td>\n",
       "      <td>12.126500</td>\n",
       "      <td>24.000000</td>\n",
       "      <td>711.000000</td>\n",
       "      <td>22.000000</td>\n",
       "      <td>396.900000</td>\n",
       "      <td>37.970000</td>\n",
       "      <td>50.000000</td>\n",
       "      <td>1.000000</td>\n",
       "      <td>1.000000</td>\n",
       "    </tr>\n",
       "  </tbody>\n",
       "</table>\n",
       "</div>"
      ],
      "text/plain": [
       "             CRIM          ZN      INDUS         NOX          RM         AGE  \\\n",
       "count  498.000000  498.000000  498.00000  498.000000  498.000000  498.000000   \n",
       "mean     2.778287   11.546185   11.02492    0.552766    6.293082   68.158434   \n",
       "std      5.088265   23.464449    6.85777    0.115729    0.700201   28.162623   \n",
       "min      0.006320    0.000000    0.46000    0.385000    3.561000    2.900000   \n",
       "25%      0.080573    0.000000    5.13000    0.448250    5.888250   43.875000   \n",
       "50%      0.247510    0.000000    8.56000    0.535000    6.211000   76.700000   \n",
       "75%      3.103700   12.500000   18.10000    0.624000    6.628000   93.875000   \n",
       "max     28.655800  100.000000   27.74000    0.871000    8.780000  100.000000   \n",
       "\n",
       "              DIS         RAD         TAX     PTRATIO           B       LSTAT  \\\n",
       "count  498.000000  498.000000  498.000000  498.000000  498.000000  498.000000   \n",
       "mean     3.830554    9.317269  404.096386   18.427510  359.121867   12.494096   \n",
       "std      2.103572    8.580296  166.659277    2.170867   87.140830    7.007974   \n",
       "min      1.129600    1.000000  187.000000   12.600000    0.320000    1.730000   \n",
       "25%      2.113700    4.000000  279.000000   17.075000  376.057500    6.905000   \n",
       "50%      3.272100    5.000000  330.000000   18.950000  391.600000   11.265000   \n",
       "75%      5.214600    8.000000  666.000000   20.200000  396.225000   16.635000   \n",
       "max     12.126500   24.000000  711.000000   22.000000  396.900000   37.970000   \n",
       "\n",
       "           target     CHAS_no    CHAS_yes  \n",
       "count  498.000000  498.000000  498.000000  \n",
       "mean    22.753012    0.929719    0.070281  \n",
       "std      9.094994    0.255877    0.255877  \n",
       "min      5.600000    0.000000    0.000000  \n",
       "25%     17.225000    1.000000    0.000000  \n",
       "50%     21.400000    1.000000    0.000000  \n",
       "75%     25.000000    1.000000    0.000000  \n",
       "max     50.000000    1.000000    1.000000  "
      ]
     },
     "execution_count": 35,
     "metadata": {},
     "output_type": "execute_result"
    }
   ],
   "source": [
    "df.describe()"
   ]
  },
  {
   "cell_type": "code",
   "execution_count": 36,
   "id": "4f2f5dc5",
   "metadata": {},
   "outputs": [
    {
     "data": {
      "text/plain": [
       "Index(['CRIM', 'ZN', 'INDUS', 'NOX', 'RM', 'AGE', 'DIS', 'RAD', 'TAX',\n",
       "       'PTRATIO', 'B', 'LSTAT', 'target', 'CHAS_no', 'CHAS_yes'],\n",
       "      dtype='object')"
      ]
     },
     "execution_count": 36,
     "metadata": {},
     "output_type": "execute_result"
    }
   ],
   "source": [
    "df.columns"
   ]
  },
  {
   "cell_type": "code",
   "execution_count": 37,
   "id": "9d44ce46",
   "metadata": {},
   "outputs": [
    {
     "data": {
      "text/plain": [
       "<AxesSubplot:>"
      ]
     },
     "execution_count": 37,
     "metadata": {},
     "output_type": "execute_result"
    },
    {
     "data": {
      "image/png": "[encoded data removed]",
      "text/plain": [
       "<Figure size 640x480 with 2 Axes>"
      ]
     },
     "metadata": {},
     "output_type": "display_data"
    }
   ],
   "source": [
    "sns.heatmap(df.corr())"
   ]
  },
  {
   "cell_type": "code",
   "execution_count": 38,
   "id": "c17dd9ab",
   "metadata": {},
   "outputs": [],
   "source": [
    "from sklearn.model_selection import train_test_split"
   ]
  },
  {
   "cell_type": "code",
   "execution_count": 39,
   "id": "16b742a9",
   "metadata": {},
   "outputs": [],
   "source": [
    "X = df.drop('target', axis=1)\n",
    "y = df['target']"
   ]
  },
  {
   "cell_type": "code",
   "execution_count": 40,
   "id": "1d15dbe5",
   "metadata": {},
   "outputs": [],
   "source": [
    "X_train, X_test, y_train, y_test = train_test_split(X, y, test_size=0.2, random_state=42)"
   ]
  },
  {
   "cell_type": "code",
   "execution_count": 41,
   "id": "ff367ce7",
   "metadata": {},
   "outputs": [],
   "source": [
    "from sklearn.linear_model import LinearRegression"
   ]
  },
  {
   "cell_type": "code",
   "execution_count": 42,
   "id": "1305eac3",
   "metadata": {},
   "outputs": [
    {
     "data": {
      "text/plain": [
       "LinearRegression()"
      ]
     },
     "execution_count": 42,
     "metadata": {},
     "output_type": "execute_result"
    }
   ],
   "source": [
    "model = LinearRegression()\n",
    "model.fit(X_train, y_train)"
   ]
  },
  {
   "cell_type": "code",
   "execution_count": 43,
   "id": "1e52144f",
   "metadata": {},
   "outputs": [],
   "source": [
    "y_pred = model.predict(X_test)"
   ]
  },
  {
   "cell_type": "code",
   "execution_count": 44,
   "id": "6efeae6f",
   "metadata": {},
   "outputs": [],
   "source": [
    "from sklearn.metrics import mean_squared_error, r2_score"
   ]
  },
  {
   "cell_type": "code",
   "execution_count": 45,
   "id": "a2ff28ff",
   "metadata": {},
   "outputs": [],
   "source": [
    "mse = mean_squared_error(y_test, y_pred)\n",
    "rmse = np.sqrt(mse)\n",
    "r2 = r2_score(y_test, y_pred)"
   ]
  },
  {
   "cell_type": "code",
   "execution_count": 46,
   "id": "ac6821d5",
   "metadata": {},
   "outputs": [
    {
     "name": "stdout",
     "output_type": "stream",
     "text": [
      "Mean squared error: 17.19\n",
      "Root mean squared error: 4.15\n",
      "R^2 score: 0.76\n"
     ]
    }
   ],
   "source": [
    "print(\"Mean squared error: {:.2f}\".format(mse))\n",
    "print(\"Root mean squared error: {:.2f}\".format(rmse))\n",
    "print(\"R^2 score: {:.2f}\".format(r2))"
   ]
  },
  {
   "cell_type": "code",
   "execution_count": 47,
   "id": "8fb4bec2",
   "metadata": {},
   "outputs": [
    {
     "name": "stdout",
     "output_type": "stream",
     "text": [
      "     Feature  Coefficient\n",
      "0       CRIM    -0.136138\n",
      "1         ZN     0.030043\n",
      "2      INDUS     0.026875\n",
      "3        NOX   -16.774256\n",
      "4         RM     3.821473\n",
      "5        AGE    -0.005849\n",
      "6        DIS    -1.460729\n",
      "7        RAD     0.264838\n",
      "8        TAX    -0.009716\n",
      "9    PTRATIO    -1.007075\n",
      "10         B     0.011666\n",
      "11     LSTAT    -0.553702\n",
      "12   CHAS_no    -1.059490\n",
      "13  CHAS_yes     1.059490\n"
     ]
    }
   ],
   "source": [
    "coefficients = pd.DataFrame({'Feature': X.columns, 'Coefficient': model.coef_})\n",
    "print(coefficients)"
   ]
  },
  {
   "cell_type": "code",
   "execution_count": 48,
   "id": "6ea1f4bb",
   "metadata": {},
   "outputs": [
    {
     "name": "stdout",
     "output_type": "stream",
     "text": [
      "Intercept: 37.33\n"
     ]
    }
   ],
   "source": [
    "print(\"Intercept: {:.2f}\".format(model.intercept_))"
   ]
  },
  {
   "cell_type": "code",
   "execution_count": null,
   "id": "97f520ee",
   "metadata": {},
   "outputs": [],
   "source": [
    "from statsmodels.stats.outliers_influence import variance_inflation_factor\n",
    "\n",
    "vif = [variance_inflation_factor(X, i) for i in range(X.shape[1])]\n",
    "print(vif)"
   ]
  },
  {
   "cell_type": "code",
   "execution_count": null,
   "id": "8a03a168",
   "metadata": {},
   "outputs": [],
   "source": []
  }
 ],
 "metadata": {
  "kernelspec": {
   "display_name": "Python 3 (ipykernel)",
   "language": "python",
   "name": "python3"
  },
  "language_info": {
   "codemirror_mode": {
    "name": "ipython",
    "version": 3
   },
   "file_extension": ".py",
   "mimetype": "text/x-python",
   "name": "python",
   "nbconvert_exporter": "python",
   "pygments_lexer": "ipython3",
   "version": "3.9.13"
  }
 },
 "nbformat": 4,
 "nbformat_minor": 5
}
